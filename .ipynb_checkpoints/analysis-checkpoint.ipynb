{
 "cells": [
  {
   "cell_type": "code",
   "execution_count": 148,
   "metadata": {},
   "outputs": [],
   "source": [
    "import numpy as np\n",
    "import pandas as pd\n",
    "import seaborn as sns\n",
    "import matplotlib.pyplot as plt"
   ]
  },
  {
   "cell_type": "code",
   "execution_count": 149,
   "metadata": {},
   "outputs": [
    {
     "data": {
      "text/html": [
       "<div>\n",
       "<style scoped>\n",
       "    .dataframe tbody tr th:only-of-type {\n",
       "        vertical-align: middle;\n",
       "    }\n",
       "\n",
       "    .dataframe tbody tr th {\n",
       "        vertical-align: top;\n",
       "    }\n",
       "\n",
       "    .dataframe thead th {\n",
       "        text-align: right;\n",
       "    }\n",
       "</style>\n",
       "<table border=\"1\" class=\"dataframe\">\n",
       "  <thead>\n",
       "    <tr style=\"text-align: right;\">\n",
       "      <th></th>\n",
       "      <th>fac_1</th>\n",
       "      <th>fac_2</th>\n",
       "      <th>fac_3</th>\n",
       "      <th>fac_4</th>\n",
       "      <th>fac_5</th>\n",
       "      <th>fac_6</th>\n",
       "      <th>fac_7</th>\n",
       "      <th>fac_8</th>\n",
       "      <th>poi_1</th>\n",
       "      <th>poi_2</th>\n",
       "      <th>poi_3</th>\n",
       "      <th>size</th>\n",
       "      <th>price_monthly</th>\n",
       "      <th>room_count</th>\n",
       "      <th>total_call</th>\n",
       "      <th>gender</th>\n",
       "    </tr>\n",
       "    <tr>\n",
       "      <th>id</th>\n",
       "      <th></th>\n",
       "      <th></th>\n",
       "      <th></th>\n",
       "      <th></th>\n",
       "      <th></th>\n",
       "      <th></th>\n",
       "      <th></th>\n",
       "      <th></th>\n",
       "      <th></th>\n",
       "      <th></th>\n",
       "      <th></th>\n",
       "      <th></th>\n",
       "      <th></th>\n",
       "      <th></th>\n",
       "      <th></th>\n",
       "      <th></th>\n",
       "    </tr>\n",
       "  </thead>\n",
       "  <tbody>\n",
       "    <tr>\n",
       "      <th>1</th>\n",
       "      <td>1.0</td>\n",
       "      <td>1.0</td>\n",
       "      <td>1.0</td>\n",
       "      <td>1.0</td>\n",
       "      <td>1.0</td>\n",
       "      <td>1.0</td>\n",
       "      <td>0.0</td>\n",
       "      <td>1.0</td>\n",
       "      <td>1778.0</td>\n",
       "      <td>10038.0</td>\n",
       "      <td>4106.0</td>\n",
       "      <td>9.00</td>\n",
       "      <td>1500000.0</td>\n",
       "      <td>6.0</td>\n",
       "      <td>72</td>\n",
       "      <td>campur</td>\n",
       "    </tr>\n",
       "    <tr>\n",
       "      <th>2</th>\n",
       "      <td>1.0</td>\n",
       "      <td>1.0</td>\n",
       "      <td>0.0</td>\n",
       "      <td>1.0</td>\n",
       "      <td>1.0</td>\n",
       "      <td>1.0</td>\n",
       "      <td>0.0</td>\n",
       "      <td>NaN</td>\n",
       "      <td>4548.0</td>\n",
       "      <td>9332.0</td>\n",
       "      <td>6867.0</td>\n",
       "      <td>12.00</td>\n",
       "      <td>1500000.0</td>\n",
       "      <td>30.0</td>\n",
       "      <td>56</td>\n",
       "      <td>campur</td>\n",
       "    </tr>\n",
       "    <tr>\n",
       "      <th>3</th>\n",
       "      <td>1.0</td>\n",
       "      <td>NaN</td>\n",
       "      <td>1.0</td>\n",
       "      <td>1.0</td>\n",
       "      <td>1.0</td>\n",
       "      <td>1.0</td>\n",
       "      <td>0.0</td>\n",
       "      <td>1.0</td>\n",
       "      <td>5174.0</td>\n",
       "      <td>9021.0</td>\n",
       "      <td>3693.0</td>\n",
       "      <td>12.00</td>\n",
       "      <td>1600000.0</td>\n",
       "      <td>20.0</td>\n",
       "      <td>109</td>\n",
       "      <td>campur</td>\n",
       "    </tr>\n",
       "    <tr>\n",
       "      <th>4</th>\n",
       "      <td>1.0</td>\n",
       "      <td>1.0</td>\n",
       "      <td>1.0</td>\n",
       "      <td>1.0</td>\n",
       "      <td>1.0</td>\n",
       "      <td>1.0</td>\n",
       "      <td>0.0</td>\n",
       "      <td>0.0</td>\n",
       "      <td>1490.0</td>\n",
       "      <td>8954.0</td>\n",
       "      <td>2139.0</td>\n",
       "      <td>8.25</td>\n",
       "      <td>1500000.0</td>\n",
       "      <td>15.0</td>\n",
       "      <td>54</td>\n",
       "      <td>campur</td>\n",
       "    </tr>\n",
       "    <tr>\n",
       "      <th>5</th>\n",
       "      <td>1.0</td>\n",
       "      <td>1.0</td>\n",
       "      <td>0.0</td>\n",
       "      <td>1.0</td>\n",
       "      <td>1.0</td>\n",
       "      <td>1.0</td>\n",
       "      <td>0.0</td>\n",
       "      <td>1.0</td>\n",
       "      <td>1688.0</td>\n",
       "      <td>8851.0</td>\n",
       "      <td>2145.0</td>\n",
       "      <td>14.85</td>\n",
       "      <td>2100000.0</td>\n",
       "      <td>10.0</td>\n",
       "      <td>19</td>\n",
       "      <td>campur</td>\n",
       "    </tr>\n",
       "  </tbody>\n",
       "</table>\n",
       "</div>"
      ],
      "text/plain": [
       "    fac_1  fac_2  fac_3  fac_4  fac_5  fac_6  fac_7  fac_8   poi_1    poi_2  \\\n",
       "id                                                                            \n",
       "1     1.0    1.0    1.0    1.0    1.0    1.0    0.0    1.0  1778.0  10038.0   \n",
       "2     1.0    1.0    0.0    1.0    1.0    1.0    0.0    NaN  4548.0   9332.0   \n",
       "3     1.0    NaN    1.0    1.0    1.0    1.0    0.0    1.0  5174.0   9021.0   \n",
       "4     1.0    1.0    1.0    1.0    1.0    1.0    0.0    0.0  1490.0   8954.0   \n",
       "5     1.0    1.0    0.0    1.0    1.0    1.0    0.0    1.0  1688.0   8851.0   \n",
       "\n",
       "     poi_3   size  price_monthly  room_count  total_call  gender  \n",
       "id                                                                \n",
       "1   4106.0   9.00      1500000.0         6.0          72  campur  \n",
       "2   6867.0  12.00      1500000.0        30.0          56  campur  \n",
       "3   3693.0  12.00      1600000.0        20.0         109  campur  \n",
       "4   2139.0   8.25      1500000.0        15.0          54  campur  \n",
       "5   2145.0  14.85      2100000.0        10.0          19  campur  "
      ]
     },
     "execution_count": 149,
     "metadata": {},
     "output_type": "execute_result"
    }
   ],
   "source": [
    "train = pd.read_csv(\"train.csv\",index_col=0)\n",
    "test = pd.read_csv(\"test_data.csv\",index_col=0)\n",
    "train.head(5)"
   ]
  },
  {
   "cell_type": "code",
   "execution_count": 150,
   "metadata": {},
   "outputs": [
    {
     "data": {
      "text/html": [
       "<div>\n",
       "<style scoped>\n",
       "    .dataframe tbody tr th:only-of-type {\n",
       "        vertical-align: middle;\n",
       "    }\n",
       "\n",
       "    .dataframe tbody tr th {\n",
       "        vertical-align: top;\n",
       "    }\n",
       "\n",
       "    .dataframe thead th {\n",
       "        text-align: right;\n",
       "    }\n",
       "</style>\n",
       "<table border=\"1\" class=\"dataframe\">\n",
       "  <thead>\n",
       "    <tr style=\"text-align: right;\">\n",
       "      <th></th>\n",
       "      <th>fac_1</th>\n",
       "      <th>fac_2</th>\n",
       "      <th>fac_3</th>\n",
       "      <th>fac_4</th>\n",
       "      <th>fac_5</th>\n",
       "      <th>fac_6</th>\n",
       "      <th>fac_7</th>\n",
       "      <th>fac_8</th>\n",
       "      <th>poi_1</th>\n",
       "      <th>poi_2</th>\n",
       "      <th>poi_3</th>\n",
       "      <th>size</th>\n",
       "      <th>price_monthly</th>\n",
       "      <th>room_count</th>\n",
       "      <th>total_call</th>\n",
       "    </tr>\n",
       "    <tr>\n",
       "      <th>id</th>\n",
       "      <th></th>\n",
       "      <th></th>\n",
       "      <th></th>\n",
       "      <th></th>\n",
       "      <th></th>\n",
       "      <th></th>\n",
       "      <th></th>\n",
       "      <th></th>\n",
       "      <th></th>\n",
       "      <th></th>\n",
       "      <th></th>\n",
       "      <th></th>\n",
       "      <th></th>\n",
       "      <th></th>\n",
       "      <th></th>\n",
       "    </tr>\n",
       "  </thead>\n",
       "  <tbody>\n",
       "    <tr>\n",
       "      <th>3294</th>\n",
       "      <td>0</td>\n",
       "      <td>1</td>\n",
       "      <td>0</td>\n",
       "      <td>0</td>\n",
       "      <td>0</td>\n",
       "      <td>0</td>\n",
       "      <td>0</td>\n",
       "      <td>1</td>\n",
       "      <td>2634</td>\n",
       "      <td>8854</td>\n",
       "      <td>2007</td>\n",
       "      <td>21.0</td>\n",
       "      <td>700000</td>\n",
       "      <td>1</td>\n",
       "      <td>2</td>\n",
       "    </tr>\n",
       "    <tr>\n",
       "      <th>3295</th>\n",
       "      <td>1</td>\n",
       "      <td>1</td>\n",
       "      <td>1</td>\n",
       "      <td>1</td>\n",
       "      <td>1</td>\n",
       "      <td>1</td>\n",
       "      <td>0</td>\n",
       "      <td>1</td>\n",
       "      <td>6569</td>\n",
       "      <td>3512</td>\n",
       "      <td>7341</td>\n",
       "      <td>12.0</td>\n",
       "      <td>1200000</td>\n",
       "      <td>16</td>\n",
       "      <td>30</td>\n",
       "    </tr>\n",
       "    <tr>\n",
       "      <th>3296</th>\n",
       "      <td>0</td>\n",
       "      <td>1</td>\n",
       "      <td>1</td>\n",
       "      <td>1</td>\n",
       "      <td>1</td>\n",
       "      <td>0</td>\n",
       "      <td>0</td>\n",
       "      <td>1</td>\n",
       "      <td>10623</td>\n",
       "      <td>883</td>\n",
       "      <td>11250</td>\n",
       "      <td>12.0</td>\n",
       "      <td>700000</td>\n",
       "      <td>8</td>\n",
       "      <td>5</td>\n",
       "    </tr>\n",
       "    <tr>\n",
       "      <th>3297</th>\n",
       "      <td>0</td>\n",
       "      <td>1</td>\n",
       "      <td>1</td>\n",
       "      <td>1</td>\n",
       "      <td>1</td>\n",
       "      <td>0</td>\n",
       "      <td>0</td>\n",
       "      <td>1</td>\n",
       "      <td>10592</td>\n",
       "      <td>876</td>\n",
       "      <td>11216</td>\n",
       "      <td>12.0</td>\n",
       "      <td>700000</td>\n",
       "      <td>16</td>\n",
       "      <td>6</td>\n",
       "    </tr>\n",
       "    <tr>\n",
       "      <th>3298</th>\n",
       "      <td>0</td>\n",
       "      <td>1</td>\n",
       "      <td>0</td>\n",
       "      <td>0</td>\n",
       "      <td>1</td>\n",
       "      <td>0</td>\n",
       "      <td>0</td>\n",
       "      <td>1</td>\n",
       "      <td>1623</td>\n",
       "      <td>10204</td>\n",
       "      <td>3931</td>\n",
       "      <td>13.6</td>\n",
       "      <td>700000</td>\n",
       "      <td>6</td>\n",
       "      <td>39</td>\n",
       "    </tr>\n",
       "  </tbody>\n",
       "</table>\n",
       "</div>"
      ],
      "text/plain": [
       "      fac_1  fac_2  fac_3  fac_4  fac_5  fac_6  fac_7  fac_8  poi_1  poi_2  \\\n",
       "id                                                                           \n",
       "3294      0      1      0      0      0      0      0      1   2634   8854   \n",
       "3295      1      1      1      1      1      1      0      1   6569   3512   \n",
       "3296      0      1      1      1      1      0      0      1  10623    883   \n",
       "3297      0      1      1      1      1      0      0      1  10592    876   \n",
       "3298      0      1      0      0      1      0      0      1   1623  10204   \n",
       "\n",
       "      poi_3  size  price_monthly  room_count  total_call  \n",
       "id                                                        \n",
       "3294   2007  21.0         700000           1           2  \n",
       "3295   7341  12.0        1200000          16          30  \n",
       "3296  11250  12.0         700000           8           5  \n",
       "3297  11216  12.0         700000          16           6  \n",
       "3298   3931  13.6         700000           6          39  "
      ]
     },
     "execution_count": 150,
     "metadata": {},
     "output_type": "execute_result"
    }
   ],
   "source": [
    "# Preview the test data\n",
    "test.head()"
   ]
  },
  {
   "cell_type": "markdown",
   "metadata": {},
   "source": [
    "Let's explore data a little bit."
   ]
  },
  {
   "cell_type": "code",
   "execution_count": 151,
   "metadata": {},
   "outputs": [
    {
     "name": "stdout",
     "output_type": "stream",
     "text": [
      "<class 'pandas.core.frame.DataFrame'>\n",
      "Int64Index: 3293 entries, 1 to 3293\n",
      "Data columns (total 16 columns):\n",
      " #   Column         Non-Null Count  Dtype  \n",
      "---  ------         --------------  -----  \n",
      " 0   fac_1          3230 non-null   float64\n",
      " 1   fac_2          3219 non-null   float64\n",
      " 2   fac_3          3231 non-null   float64\n",
      " 3   fac_4          3222 non-null   float64\n",
      " 4   fac_5          3221 non-null   float64\n",
      " 5   fac_6          3229 non-null   float64\n",
      " 6   fac_7          3215 non-null   float64\n",
      " 7   fac_8          3225 non-null   float64\n",
      " 8   poi_1          3226 non-null   float64\n",
      " 9   poi_2          3226 non-null   float64\n",
      " 10  poi_3          3207 non-null   float64\n",
      " 11  size           3225 non-null   float64\n",
      " 12  price_monthly  3208 non-null   float64\n",
      " 13  room_count     3223 non-null   float64\n",
      " 14  total_call     3293 non-null   int64  \n",
      " 15  gender         3293 non-null   object \n",
      "dtypes: float64(14), int64(1), object(1)\n",
      "memory usage: 437.4+ KB\n"
     ]
    }
   ],
   "source": [
    "train.info()"
   ]
  },
  {
   "cell_type": "markdown",
   "metadata": {},
   "source": [
    "So there are 14 float type data columns, 1 int type and 1 object type."
   ]
  },
  {
   "cell_type": "code",
   "execution_count": 152,
   "metadata": {},
   "outputs": [
    {
     "data": {
      "text/html": [
       "<div>\n",
       "<style scoped>\n",
       "    .dataframe tbody tr th:only-of-type {\n",
       "        vertical-align: middle;\n",
       "    }\n",
       "\n",
       "    .dataframe tbody tr th {\n",
       "        vertical-align: top;\n",
       "    }\n",
       "\n",
       "    .dataframe thead th {\n",
       "        text-align: right;\n",
       "    }\n",
       "</style>\n",
       "<table border=\"1\" class=\"dataframe\">\n",
       "  <thead>\n",
       "    <tr style=\"text-align: right;\">\n",
       "      <th></th>\n",
       "      <th>fac_1</th>\n",
       "      <th>fac_2</th>\n",
       "      <th>fac_3</th>\n",
       "      <th>fac_4</th>\n",
       "      <th>fac_5</th>\n",
       "      <th>fac_6</th>\n",
       "      <th>fac_7</th>\n",
       "      <th>fac_8</th>\n",
       "      <th>poi_1</th>\n",
       "      <th>poi_2</th>\n",
       "      <th>poi_3</th>\n",
       "      <th>size</th>\n",
       "      <th>price_monthly</th>\n",
       "      <th>room_count</th>\n",
       "      <th>total_call</th>\n",
       "    </tr>\n",
       "  </thead>\n",
       "  <tbody>\n",
       "    <tr>\n",
       "      <th>count</th>\n",
       "      <td>3230.000000</td>\n",
       "      <td>3219.000000</td>\n",
       "      <td>3231.000000</td>\n",
       "      <td>3222.000000</td>\n",
       "      <td>3221.000000</td>\n",
       "      <td>3229.000000</td>\n",
       "      <td>3215.000000</td>\n",
       "      <td>3225.000000</td>\n",
       "      <td>3226.000000</td>\n",
       "      <td>3226.000000</td>\n",
       "      <td>3207.000000</td>\n",
       "      <td>3225.000000</td>\n",
       "      <td>3.208000e+03</td>\n",
       "      <td>3223.000000</td>\n",
       "      <td>3293.000000</td>\n",
       "    </tr>\n",
       "    <tr>\n",
       "      <th>mean</th>\n",
       "      <td>0.261610</td>\n",
       "      <td>0.608263</td>\n",
       "      <td>0.456515</td>\n",
       "      <td>0.562384</td>\n",
       "      <td>0.641416</td>\n",
       "      <td>0.427687</td>\n",
       "      <td>0.004666</td>\n",
       "      <td>0.518450</td>\n",
       "      <td>4679.478921</td>\n",
       "      <td>9920.515189</td>\n",
       "      <td>4906.215778</td>\n",
       "      <td>12.143745</td>\n",
       "      <td>8.975029e+05</td>\n",
       "      <td>10.506050</td>\n",
       "      <td>35.362587</td>\n",
       "    </tr>\n",
       "    <tr>\n",
       "      <th>std</th>\n",
       "      <td>0.439579</td>\n",
       "      <td>0.488214</td>\n",
       "      <td>0.498183</td>\n",
       "      <td>0.496170</td>\n",
       "      <td>0.479659</td>\n",
       "      <td>0.494820</td>\n",
       "      <td>0.068156</td>\n",
       "      <td>0.499737</td>\n",
       "      <td>3569.137245</td>\n",
       "      <td>4714.800696</td>\n",
       "      <td>3617.408043</td>\n",
       "      <td>4.951679</td>\n",
       "      <td>6.501208e+05</td>\n",
       "      <td>9.565184</td>\n",
       "      <td>47.269615</td>\n",
       "    </tr>\n",
       "    <tr>\n",
       "      <th>min</th>\n",
       "      <td>0.000000</td>\n",
       "      <td>0.000000</td>\n",
       "      <td>0.000000</td>\n",
       "      <td>0.000000</td>\n",
       "      <td>0.000000</td>\n",
       "      <td>0.000000</td>\n",
       "      <td>0.000000</td>\n",
       "      <td>0.000000</td>\n",
       "      <td>519.000000</td>\n",
       "      <td>168.000000</td>\n",
       "      <td>324.000000</td>\n",
       "      <td>6.000000</td>\n",
       "      <td>1.550000e+05</td>\n",
       "      <td>1.000000</td>\n",
       "      <td>1.000000</td>\n",
       "    </tr>\n",
       "    <tr>\n",
       "      <th>25%</th>\n",
       "      <td>0.000000</td>\n",
       "      <td>0.000000</td>\n",
       "      <td>0.000000</td>\n",
       "      <td>0.000000</td>\n",
       "      <td>0.000000</td>\n",
       "      <td>0.000000</td>\n",
       "      <td>0.000000</td>\n",
       "      <td>0.000000</td>\n",
       "      <td>2355.500000</td>\n",
       "      <td>7875.750000</td>\n",
       "      <td>2693.000000</td>\n",
       "      <td>9.000000</td>\n",
       "      <td>5.000000e+05</td>\n",
       "      <td>4.000000</td>\n",
       "      <td>8.000000</td>\n",
       "    </tr>\n",
       "    <tr>\n",
       "      <th>50%</th>\n",
       "      <td>0.000000</td>\n",
       "      <td>1.000000</td>\n",
       "      <td>0.000000</td>\n",
       "      <td>1.000000</td>\n",
       "      <td>1.000000</td>\n",
       "      <td>0.000000</td>\n",
       "      <td>0.000000</td>\n",
       "      <td>1.000000</td>\n",
       "      <td>3961.000000</td>\n",
       "      <td>9241.000000</td>\n",
       "      <td>3927.000000</td>\n",
       "      <td>12.000000</td>\n",
       "      <td>6.500000e+05</td>\n",
       "      <td>8.000000</td>\n",
       "      <td>20.000000</td>\n",
       "    </tr>\n",
       "    <tr>\n",
       "      <th>75%</th>\n",
       "      <td>1.000000</td>\n",
       "      <td>1.000000</td>\n",
       "      <td>1.000000</td>\n",
       "      <td>1.000000</td>\n",
       "      <td>1.000000</td>\n",
       "      <td>1.000000</td>\n",
       "      <td>0.000000</td>\n",
       "      <td>1.000000</td>\n",
       "      <td>5900.750000</td>\n",
       "      <td>12422.750000</td>\n",
       "      <td>6099.000000</td>\n",
       "      <td>12.250000</td>\n",
       "      <td>1.200000e+06</td>\n",
       "      <td>14.000000</td>\n",
       "      <td>44.000000</td>\n",
       "    </tr>\n",
       "    <tr>\n",
       "      <th>max</th>\n",
       "      <td>1.000000</td>\n",
       "      <td>1.000000</td>\n",
       "      <td>1.000000</td>\n",
       "      <td>1.000000</td>\n",
       "      <td>1.000000</td>\n",
       "      <td>1.000000</td>\n",
       "      <td>1.000000</td>\n",
       "      <td>1.000000</td>\n",
       "      <td>48675.000000</td>\n",
       "      <td>55105.000000</td>\n",
       "      <td>46517.000000</td>\n",
       "      <td>48.000000</td>\n",
       "      <td>5.000000e+06</td>\n",
       "      <td>121.000000</td>\n",
       "      <td>769.000000</td>\n",
       "    </tr>\n",
       "  </tbody>\n",
       "</table>\n",
       "</div>"
      ],
      "text/plain": [
       "             fac_1        fac_2        fac_3        fac_4        fac_5  \\\n",
       "count  3230.000000  3219.000000  3231.000000  3222.000000  3221.000000   \n",
       "mean      0.261610     0.608263     0.456515     0.562384     0.641416   \n",
       "std       0.439579     0.488214     0.498183     0.496170     0.479659   \n",
       "min       0.000000     0.000000     0.000000     0.000000     0.000000   \n",
       "25%       0.000000     0.000000     0.000000     0.000000     0.000000   \n",
       "50%       0.000000     1.000000     0.000000     1.000000     1.000000   \n",
       "75%       1.000000     1.000000     1.000000     1.000000     1.000000   \n",
       "max       1.000000     1.000000     1.000000     1.000000     1.000000   \n",
       "\n",
       "             fac_6        fac_7        fac_8         poi_1         poi_2  \\\n",
       "count  3229.000000  3215.000000  3225.000000   3226.000000   3226.000000   \n",
       "mean      0.427687     0.004666     0.518450   4679.478921   9920.515189   \n",
       "std       0.494820     0.068156     0.499737   3569.137245   4714.800696   \n",
       "min       0.000000     0.000000     0.000000    519.000000    168.000000   \n",
       "25%       0.000000     0.000000     0.000000   2355.500000   7875.750000   \n",
       "50%       0.000000     0.000000     1.000000   3961.000000   9241.000000   \n",
       "75%       1.000000     0.000000     1.000000   5900.750000  12422.750000   \n",
       "max       1.000000     1.000000     1.000000  48675.000000  55105.000000   \n",
       "\n",
       "              poi_3         size  price_monthly   room_count   total_call  \n",
       "count   3207.000000  3225.000000   3.208000e+03  3223.000000  3293.000000  \n",
       "mean    4906.215778    12.143745   8.975029e+05    10.506050    35.362587  \n",
       "std     3617.408043     4.951679   6.501208e+05     9.565184    47.269615  \n",
       "min      324.000000     6.000000   1.550000e+05     1.000000     1.000000  \n",
       "25%     2693.000000     9.000000   5.000000e+05     4.000000     8.000000  \n",
       "50%     3927.000000    12.000000   6.500000e+05     8.000000    20.000000  \n",
       "75%     6099.000000    12.250000   1.200000e+06    14.000000    44.000000  \n",
       "max    46517.000000    48.000000   5.000000e+06   121.000000   769.000000  "
      ]
     },
     "execution_count": 152,
     "metadata": {},
     "output_type": "execute_result"
    }
   ],
   "source": [
    "train.describe()"
   ]
  },
  {
   "cell_type": "code",
   "execution_count": 153,
   "metadata": {},
   "outputs": [
    {
     "data": {
      "text/plain": [
       "<matplotlib.axes._subplots.AxesSubplot at 0x1ebed3bf940>"
      ]
     },
     "execution_count": 153,
     "metadata": {},
     "output_type": "execute_result"
    },
    {
     "data": {
      "image/png": "[encoded data removed]",
      "text/plain": [
       "<Figure size 432x288 with 1 Axes>"
      ]
     },
     "metadata": {
      "needs_background": "light"
     },
     "output_type": "display_data"
    }
   ],
   "source": [
    "plt.title('Jumlah Data yang Hilang Setiap Kategori',fontsize=15)\n",
    "train.isnull().sum().plot.bar()"
   ]
  },
  {
   "cell_type": "code",
   "execution_count": 154,
   "metadata": {},
   "outputs": [
    {
     "data": {
      "text/plain": [
       "fac_1            63\n",
       "fac_2            74\n",
       "fac_3            62\n",
       "fac_4            71\n",
       "fac_5            72\n",
       "fac_6            64\n",
       "fac_7            78\n",
       "fac_8            68\n",
       "poi_1            67\n",
       "poi_2            67\n",
       "poi_3            86\n",
       "size             68\n",
       "price_monthly    85\n",
       "room_count       70\n",
       "total_call        0\n",
       "gender            0\n",
       "dtype: int64"
      ]
     },
     "execution_count": 154,
     "metadata": {},
     "output_type": "execute_result"
    }
   ],
   "source": [
    "train.isnull().sum()"
   ]
  },
  {
   "cell_type": "code",
   "execution_count": 155,
   "metadata": {},
   "outputs": [
    {
     "name": "stdout",
     "output_type": "stream",
     "text": [
      "Percent of missing \"fac_1\" records is 1.91%\n",
      "Percent of missing \"fac_2\" records is 2.25%\n",
      "Percent of missing \"fac_3\" records is 1.88%\n",
      "Percent of missing \"fac_4\" records is 2.16%\n",
      "Percent of missing \"fac_5\" records is 2.19%\n",
      "Percent of missing \"fac_6\" records is 1.94%\n",
      "Percent of missing \"fac_7\" records is 2.37%\n",
      "Percent of missing \"fac_8\" records is 2.06%\n",
      "Percent of missing \"poi_1\" records is 2.03%\n",
      "Percent of missing \"poi_2\" records is 2.03%\n",
      "Percent of missing \"poi_3\" records is 2.61%\n",
      "Percent of missing \"size\" records is 2.06%\n",
      "Percent of missing \"price_monthly\" records is 2.58%\n",
      "Percent of missing \"room_count\" records is 2.13%\n",
      "Percent of missing \"total_call\" records is 0.00%\n"
     ]
    }
   ],
   "source": [
    "print('Percent of missing \"fac_1\" records is %.2f%%' %((train['fac_1'].isnull().sum()/train.shape[0])*100))\n",
    "print('Percent of missing \"fac_2\" records is %.2f%%' %((train['fac_2'].isnull().sum()/train.shape[0])*100))\n",
    "print('Percent of missing \"fac_3\" records is %.2f%%' %((train['fac_3'].isnull().sum()/train.shape[0])*100))\n",
    "print('Percent of missing \"fac_4\" records is %.2f%%' %((train['fac_4'].isnull().sum()/train.shape[0])*100))\n",
    "print('Percent of missing \"fac_5\" records is %.2f%%' %((train['fac_5'].isnull().sum()/train.shape[0])*100))\n",
    "print('Percent of missing \"fac_6\" records is %.2f%%' %((train['fac_6'].isnull().sum()/train.shape[0])*100))\n",
    "print('Percent of missing \"fac_7\" records is %.2f%%' %((train['fac_7'].isnull().sum()/train.shape[0])*100))\n",
    "print('Percent of missing \"fac_8\" records is %.2f%%' %((train['fac_8'].isnull().sum()/train.shape[0])*100))\n",
    "print('Percent of missing \"poi_1\" records is %.2f%%' %((train['poi_1'].isnull().sum()/train.shape[0])*100))\n",
    "print('Percent of missing \"poi_2\" records is %.2f%%' %((train['poi_2'].isnull().sum()/train.shape[0])*100))\n",
    "print('Percent of missing \"poi_3\" records is %.2f%%' %((train['poi_3'].isnull().sum()/train.shape[0])*100))\n",
    "print('Percent of missing \"size\" records is %.2f%%' %((train['size'].isnull().sum()/train.shape[0])*100))\n",
    "print('Percent of missing \"price_monthly\" records is %.2f%%' %((train['price_monthly'].isnull().sum()/train.shape[0])*100))\n",
    "print('Percent of missing \"room_count\" records is %.2f%%' %((train['room_count'].isnull().sum()/train.shape[0])*100))\n",
    "print('Percent of missing \"total_call\" records is %.2f%%' %((train['total_call'].isnull().sum()/train.shape[0])*100))"
   ]
  },
  {
   "cell_type": "code",
   "execution_count": 156,
   "metadata": {},
   "outputs": [
    {
     "data": {
      "text/plain": [
       "<matplotlib.axes._subplots.AxesSubplot at 0x1ebee70bcf8>"
      ]
     },
     "execution_count": 156,
     "metadata": {},
     "output_type": "execute_result"
    },
    {
     "data": {
      "image/png": "[encoded data removed]",
      "text/plain": [
       "<Figure size 432x288 with 1 Axes>"
      ]
     },
     "metadata": {
      "needs_background": "light"
     },
     "output_type": "display_data"
    }
   ],
   "source": [
    "sns.heatmap(data=train.isnull(),cbar=False,cmap='viridis')"
   ]
  },
  {
   "cell_type": "code",
   "execution_count": 157,
   "metadata": {},
   "outputs": [],
   "source": [
    "train_data = train.copy()\n",
    "dfputra = train_data[train_data['gender']=='putra'].copy()\n",
    "dfputri = train_data[train_data['gender']=='putri'].copy()\n",
    "dfcampur = train_data[train_data['gender']=='campur'].copy()"
   ]
  },
  {
   "cell_type": "markdown",
   "metadata": {},
   "source": [
    "## Facilities"
   ]
  },
  {
   "cell_type": "markdown",
   "metadata": {},
   "source": [
    "## 1. Fac_1"
   ]
  },
  {
   "cell_type": "code",
   "execution_count": 158,
   "metadata": {},
   "outputs": [
    {
     "data": {
      "text/plain": [
       "<matplotlib.axes._subplots.AxesSubplot at 0x1ebee7c3a90>"
      ]
     },
     "execution_count": 158,
     "metadata": {},
     "output_type": "execute_result"
    },
    {
     "data": {
      "image/png": "[encoded data removed]",
      "text/plain": [
       "<Figure size 432x288 with 1 Axes>"
      ]
     },
     "metadata": {
      "needs_background": "light"
     },
     "output_type": "display_data"
    }
   ],
   "source": [
    "sns.countplot(x='gender',hue='fac_1',data=train,palette='colorblind')"
   ]
  },
  {
   "cell_type": "code",
   "execution_count": 159,
   "metadata": {},
   "outputs": [],
   "source": [
    "# def impute_fac1(cols):\n",
    "#     fac_1 = cols[0]\n",
    "#     gender = cols[1]\n",
    "    \n",
    "#     if pd.isnull(fac_1):\n",
    "#         return 0\n",
    "#     else:\n",
    "#         return fac_1\n",
    "# train_data['fac_1'] = train_data[['fac_1','gender']].apply(impute_fac1,axis=1)"
   ]
  },
  {
   "cell_type": "code",
   "execution_count": 160,
   "metadata": {},
   "outputs": [],
   "source": [
    "def impute_fac1(cols):\n",
    "    fac_1 = cols[0]\n",
    "    gender = cols[1]\n",
    "    \n",
    "    if pd.isnull(fac_1):\n",
    "        if gender == 'campur':\n",
    "            return 1\n",
    "        else:\n",
    "            return 0\n",
    "    else:\n",
    "        return fac_1\n",
    "train_data['fac_1'] = train_data[['fac_1','gender']].apply(impute_fac1,axis=1)"
   ]
  },
  {
   "cell_type": "code",
   "execution_count": 161,
   "metadata": {},
   "outputs": [
    {
     "data": {
      "text/plain": [
       "<matplotlib.axes._subplots.AxesSubplot at 0x1ebeea31da0>"
      ]
     },
     "execution_count": 161,
     "metadata": {},
     "output_type": "execute_result"
    },
    {
     "data": {
      "image/png": "[encoded data removed]",
      "text/plain": [
       "<Figure size 432x288 with 1 Axes>"
      ]
     },
     "metadata": {
      "needs_background": "light"
     },
     "output_type": "display_data"
    }
   ],
   "source": [
    "sns.countplot(x='gender',hue='fac_1',data=train_data,palette='colorblind')"
   ]
  },
  {
   "cell_type": "markdown",
   "metadata": {},
   "source": [
    "Because all of them not give the specific different, we can delete fac_1 later"
   ]
  },
  {
   "cell_type": "markdown",
   "metadata": {},
   "source": [
    "## 2. Fac_2"
   ]
  },
  {
   "cell_type": "code",
   "execution_count": 162,
   "metadata": {},
   "outputs": [
    {
     "data": {
      "text/plain": [
       "<matplotlib.axes._subplots.AxesSubplot at 0x1ebee7cb160>"
      ]
     },
     "execution_count": 162,
     "metadata": {},
     "output_type": "execute_result"
    },
    {
     "data": {
      "image/png": "[encoded data removed]",
      "text/plain": [
       "<Figure size 432x288 with 1 Axes>"
      ]
     },
     "metadata": {
      "needs_background": "light"
     },
     "output_type": "display_data"
    }
   ],
   "source": [
    "sns.countplot(x='gender',hue='fac_2',data=train,palette='colorblind')"
   ]
  },
  {
   "cell_type": "code",
   "execution_count": 163,
   "metadata": {},
   "outputs": [],
   "source": [
    "def impute_fac2(cols):\n",
    "    fac_2 = cols[0]\n",
    "    gender = cols[1]\n",
    "    \n",
    "    if pd.isnull(fac_2):\n",
    "        if gender == 'putra':\n",
    "            return 0\n",
    "        else:\n",
    "            return 1\n",
    "    else:\n",
    "        return fac_2\n",
    "train_data['fac_2'] = train_data[['fac_2','gender']].apply(impute_fac2,axis=1)"
   ]
  },
  {
   "cell_type": "code",
   "execution_count": 164,
   "metadata": {},
   "outputs": [
    {
     "data": {
      "text/plain": [
       "<matplotlib.axes._subplots.AxesSubplot at 0x1ebee68e780>"
      ]
     },
     "execution_count": 164,
     "metadata": {},
     "output_type": "execute_result"
    },
    {
     "data": {
      "image/png": "[encoded data removed]",
      "text/plain": [
       "<Figure size 432x288 with 1 Axes>"
      ]
     },
     "metadata": {
      "needs_background": "light"
     },
     "output_type": "display_data"
    }
   ],
   "source": [
    "sns.countplot(x='gender',hue='fac_2',data=train_data,palette='colorblind')"
   ]
  },
  {
   "cell_type": "markdown",
   "metadata": {},
   "source": [
    "probably, fac_2 give specific different for putra. so we can keep it"
   ]
  },
  {
   "cell_type": "markdown",
   "metadata": {},
   "source": [
    "## 3. Fac_3"
   ]
  },
  {
   "cell_type": "code",
   "execution_count": 165,
   "metadata": {},
   "outputs": [
    {
     "data": {
      "text/plain": [
       "<matplotlib.axes._subplots.AxesSubplot at 0x1ebee7cba58>"
      ]
     },
     "execution_count": 165,
     "metadata": {},
     "output_type": "execute_result"
    },
    {
     "data": {
      "image/png": "[encoded data removed]",
      "text/plain": [
       "<Figure size 432x288 with 1 Axes>"
      ]
     },
     "metadata": {
      "needs_background": "light"
     },
     "output_type": "display_data"
    }
   ],
   "source": [
    "sns.countplot(x='gender',hue='fac_3',data=train,palette='colorblind')"
   ]
  },
  {
   "cell_type": "code",
   "execution_count": 166,
   "metadata": {},
   "outputs": [],
   "source": [
    "def impute_fac3(cols):\n",
    "    fac_3 = cols[0]\n",
    "    gender = cols[1]\n",
    "    \n",
    "    if pd.isnull(fac_3):\n",
    "        if gender == 'putri':\n",
    "            return 1\n",
    "        else:\n",
    "            return 0\n",
    "    else:\n",
    "        return fac_3\n",
    "train_data['fac_3'] = train_data[['fac_3','gender']].apply(impute_fac3,axis=1)"
   ]
  },
  {
   "cell_type": "markdown",
   "metadata": {},
   "source": [
    "Same like fac_2, we can keep it first"
   ]
  },
  {
   "cell_type": "markdown",
   "metadata": {},
   "source": [
    "## 4. Fac_4"
   ]
  },
  {
   "cell_type": "code",
   "execution_count": 167,
   "metadata": {},
   "outputs": [
    {
     "data": {
      "text/plain": [
       "<matplotlib.axes._subplots.AxesSubplot at 0x1ebeeb0ae80>"
      ]
     },
     "execution_count": 167,
     "metadata": {},
     "output_type": "execute_result"
    },
    {
     "data": {
      "image/png": "[encoded data removed]",
      "text/plain": [
       "<Figure size 432x288 with 1 Axes>"
      ]
     },
     "metadata": {
      "needs_background": "light"
     },
     "output_type": "display_data"
    }
   ],
   "source": [
    "sns.countplot(x='gender',hue='fac_4',data=train,palette='colorblind')"
   ]
  },
  {
   "cell_type": "markdown",
   "metadata": {},
   "source": [
    "fac_4 give a significant different, so we can use this variable and fill the NAN's"
   ]
  },
  {
   "cell_type": "code",
   "execution_count": 168,
   "metadata": {},
   "outputs": [],
   "source": [
    "def impute_fac4(cols):\n",
    "    fac_4 = cols[0]\n",
    "    gender = cols[1]\n",
    "    \n",
    "    if pd.isnull(fac_4):\n",
    "        if gender == 'putra':\n",
    "            return 0\n",
    "        else:\n",
    "            return 1\n",
    "    else:\n",
    "        return fac_4"
   ]
  },
  {
   "cell_type": "code",
   "execution_count": 169,
   "metadata": {},
   "outputs": [],
   "source": [
    "train_data['fac_4'] = train_data[['fac_4','gender']].apply(impute_fac4,axis=1)"
   ]
  },
  {
   "cell_type": "markdown",
   "metadata": {},
   "source": [
    "## 5. Fac_5"
   ]
  },
  {
   "cell_type": "code",
   "execution_count": 170,
   "metadata": {},
   "outputs": [
    {
     "data": {
      "text/plain": [
       "<matplotlib.axes._subplots.AxesSubplot at 0x1ebeeb6e748>"
      ]
     },
     "execution_count": 170,
     "metadata": {},
     "output_type": "execute_result"
    },
    {
     "data": {
      "image/png": "[encoded data removed]",
      "text/plain": [
       "<Figure size 432x288 with 1 Axes>"
      ]
     },
     "metadata": {
      "needs_background": "light"
     },
     "output_type": "display_data"
    }
   ],
   "source": [
    "sns.countplot(x='gender',hue='fac_5',data=train,palette='colorblind')"
   ]
  },
  {
   "cell_type": "code",
   "execution_count": 171,
   "metadata": {},
   "outputs": [],
   "source": [
    "# def impute_fac5(cols):\n",
    "#     fac_5 = cols[0]\n",
    "#     gender = cols[1]\n",
    "    \n",
    "#     if pd.isnull(fac_5):\n",
    "#         return 1\n",
    "#     else:\n",
    "#         return fac_5\n",
    "# train_data['fac_5'] = train_data[['fac_5','gender']].apply(impute_fac5,axis=1)"
   ]
  },
  {
   "cell_type": "code",
   "execution_count": 172,
   "metadata": {},
   "outputs": [],
   "source": [
    "def impute_fac5(cols):\n",
    "    fac_5 = cols[0]\n",
    "    gender = cols[1]\n",
    "    \n",
    "    if pd.isnull(fac_5):\n",
    "        if gender == 'putra':\n",
    "            return 0\n",
    "        else:\n",
    "            return 1\n",
    "    else:\n",
    "        return fac_5\n",
    "train_data['fac_5'] = train_data[['fac_5','gender']].apply(impute_fac5,axis=1)"
   ]
  },
  {
   "cell_type": "code",
   "execution_count": 173,
   "metadata": {},
   "outputs": [
    {
     "data": {
      "text/plain": [
       "<matplotlib.axes._subplots.AxesSubplot at 0x1ebeebccb38>"
      ]
     },
     "execution_count": 173,
     "metadata": {},
     "output_type": "execute_result"
    },
    {
     "data": {
      "image/png": "[encoded data removed]",
      "text/plain": [
       "<Figure size 432x288 with 1 Axes>"
      ]
     },
     "metadata": {
      "needs_background": "light"
     },
     "output_type": "display_data"
    }
   ],
   "source": [
    "sns.countplot(x='gender',hue='fac_5',data=train_data,palette='colorblind')"
   ]
  },
  {
   "cell_type": "markdown",
   "metadata": {},
   "source": [
    "Because all of them not give the specific different, we can delete fac_5"
   ]
  },
  {
   "cell_type": "markdown",
   "metadata": {},
   "source": [
    "## 6. Fac_6"
   ]
  },
  {
   "cell_type": "code",
   "execution_count": 174,
   "metadata": {},
   "outputs": [
    {
     "data": {
      "text/plain": [
       "<matplotlib.axes._subplots.AxesSubplot at 0x1ebeec2ac18>"
      ]
     },
     "execution_count": 174,
     "metadata": {},
     "output_type": "execute_result"
    },
    {
     "data": {
      "image/png": "[encoded data removed]",
      "text/plain": [
       "<Figure size 432x288 with 1 Axes>"
      ]
     },
     "metadata": {
      "needs_background": "light"
     },
     "output_type": "display_data"
    }
   ],
   "source": [
    "sns.countplot(x='gender',hue='fac_6',data=train,palette='colorblind')"
   ]
  },
  {
   "cell_type": "markdown",
   "metadata": {},
   "source": [
    "fac_6 give a significant different, so we can use this variable and fill the NAN's"
   ]
  },
  {
   "cell_type": "code",
   "execution_count": 175,
   "metadata": {},
   "outputs": [],
   "source": [
    "def impute_fac6(cols):\n",
    "    fac_6 = cols[0]\n",
    "    gender = cols[1]\n",
    "    \n",
    "    if pd.isnull(fac_6):\n",
    "        if gender == 'campur':\n",
    "            return 1\n",
    "        else:\n",
    "            return 0\n",
    "    else:\n",
    "        return fac_6"
   ]
  },
  {
   "cell_type": "code",
   "execution_count": 176,
   "metadata": {},
   "outputs": [],
   "source": [
    "train_data['fac_6'] = train_data[['fac_6','gender']].apply(impute_fac6,axis=1)"
   ]
  },
  {
   "cell_type": "markdown",
   "metadata": {},
   "source": [
    "## 7. Fac_7"
   ]
  },
  {
   "cell_type": "code",
   "execution_count": 177,
   "metadata": {},
   "outputs": [
    {
     "data": {
      "text/plain": [
       "<matplotlib.axes._subplots.AxesSubplot at 0x1ebeec8c4e0>"
      ]
     },
     "execution_count": 177,
     "metadata": {},
     "output_type": "execute_result"
    },
    {
     "data": {
      "image/png": "[encoded data removed]",
      "text/plain": [
       "<Figure size 432x288 with 1 Axes>"
      ]
     },
     "metadata": {
      "needs_background": "light"
     },
     "output_type": "display_data"
    }
   ],
   "source": [
    "sns.countplot(x='gender',hue='fac_7',data=train,palette='colorblind')"
   ]
  },
  {
   "cell_type": "markdown",
   "metadata": {},
   "source": [
    "Because all of them not give the specific different, we can delete fac_7"
   ]
  },
  {
   "cell_type": "code",
   "execution_count": 178,
   "metadata": {},
   "outputs": [],
   "source": [
    "train_data.drop('fac_7',axis=1,inplace=True)"
   ]
  },
  {
   "cell_type": "markdown",
   "metadata": {},
   "source": [
    "## 8. Fac_8"
   ]
  },
  {
   "cell_type": "code",
   "execution_count": 179,
   "metadata": {},
   "outputs": [
    {
     "data": {
      "text/plain": [
       "<matplotlib.axes._subplots.AxesSubplot at 0x1ebeecf29e8>"
      ]
     },
     "execution_count": 179,
     "metadata": {},
     "output_type": "execute_result"
    },
    {
     "data": {
      "image/png": "[encoded data removed]",
      "text/plain": [
       "<Figure size 432x288 with 1 Axes>"
      ]
     },
     "metadata": {
      "needs_background": "light"
     },
     "output_type": "display_data"
    }
   ],
   "source": [
    "sns.countplot(x='gender',hue='fac_8',data=train,palette='colorblind')"
   ]
  },
  {
   "cell_type": "markdown",
   "metadata": {},
   "source": [
    "fac_8 give a significant different, so we can use this variable and fill the NAN's"
   ]
  },
  {
   "cell_type": "code",
   "execution_count": 180,
   "metadata": {},
   "outputs": [],
   "source": [
    "def impute_fac8(cols):\n",
    "    fac_8 = cols[0]\n",
    "    gender = cols[1]\n",
    "    \n",
    "    if pd.isnull(fac_8):\n",
    "        if gender == 'putri':\n",
    "            return 0\n",
    "        else:\n",
    "            return 1\n",
    "    else:\n",
    "        return fac_8"
   ]
  },
  {
   "cell_type": "code",
   "execution_count": 181,
   "metadata": {},
   "outputs": [],
   "source": [
    "train_data['fac_8'] = train_data[['fac_8','gender']].apply(impute_fac8,axis=1)"
   ]
  },
  {
   "cell_type": "markdown",
   "metadata": {},
   "source": [
    "## POI (Point of Interest)"
   ]
  },
  {
   "cell_type": "markdown",
   "metadata": {},
   "source": [
    "Let's indentify poi"
   ]
  },
  {
   "cell_type": "markdown",
   "metadata": {},
   "source": [
    "## 9. poi_1"
   ]
  },
  {
   "cell_type": "code",
   "execution_count": 182,
   "metadata": {},
   "outputs": [
    {
     "data": {
      "text/plain": [
       "<matplotlib.axes._subplots.AxesSubplot at 0x1ebeed46940>"
      ]
     },
     "execution_count": 182,
     "metadata": {},
     "output_type": "execute_result"
    },
    {
     "data": {
      "image/png": "[encoded data removed]",
      "text/plain": [
       "<Figure size 432x288 with 1 Axes>"
      ]
     },
     "metadata": {
      "needs_background": "light"
     },
     "output_type": "display_data"
    }
   ],
   "source": [
    "sns.boxplot(x='gender',y='poi_1',data=train)"
   ]
  },
  {
   "cell_type": "code",
   "execution_count": 183,
   "metadata": {},
   "outputs": [],
   "source": [
    "def impute_poi1(cols):\n",
    "    poi_1 = cols[0]\n",
    "    gender = cols[1]\n",
    "    \n",
    "    if pd.isnull(poi_1):\n",
    "        if gender == 'putra':\n",
    "            return train[train['gender']=='putra']['poi_1'].median()\n",
    "        elif gender == 'putri':\n",
    "            return train[train['gender']=='putri']['poi_1'].median()\n",
    "        else:\n",
    "            return train[train['gender']=='campur']['poi_1'].median()\n",
    "    else:\n",
    "        return poi_1\n",
    "train_data['poi_1'] = train[['poi_1','gender']].apply(impute_poi1,axis=1)"
   ]
  },
  {
   "cell_type": "markdown",
   "metadata": {},
   "source": [
    "## 10. poi_2"
   ]
  },
  {
   "cell_type": "code",
   "execution_count": 184,
   "metadata": {},
   "outputs": [
    {
     "data": {
      "text/plain": [
       "<matplotlib.axes._subplots.AxesSubplot at 0x1ebeecfecc0>"
      ]
     },
     "execution_count": 184,
     "metadata": {},
     "output_type": "execute_result"
    },
    {
     "data": {
      "image/png": "[encoded data removed]",
      "text/plain": [
       "<Figure size 432x288 with 1 Axes>"
      ]
     },
     "metadata": {
      "needs_background": "light"
     },
     "output_type": "display_data"
    }
   ],
   "source": [
    "sns.boxplot(x='gender',y='poi_2',data=train)"
   ]
  },
  {
   "cell_type": "code",
   "execution_count": 185,
   "metadata": {},
   "outputs": [],
   "source": [
    "def impute_poi2(cols):\n",
    "    poi_2 = cols[0]\n",
    "    gender = cols[1]\n",
    "    \n",
    "    if pd.isnull(poi_2):\n",
    "        if gender == 'putra':\n",
    "            return train[train['gender']=='putra']['poi_2'].median()\n",
    "        elif gender == 'putri':\n",
    "            return train[train['gender']=='putri']['poi_2'].median()\n",
    "        else:\n",
    "            return train[train['gender']=='campur']['poi_2'].median()\n",
    "    else:\n",
    "        return poi_2\n",
    "train_data['poi_2'] = train[['poi_2','gender']].apply(impute_poi2,axis=1)"
   ]
  },
  {
   "cell_type": "markdown",
   "metadata": {},
   "source": [
    "## 11. poi_3"
   ]
  },
  {
   "cell_type": "code",
   "execution_count": 186,
   "metadata": {},
   "outputs": [
    {
     "data": {
      "text/plain": [
       "<matplotlib.axes._subplots.AxesSubplot at 0x1ebeed46f28>"
      ]
     },
     "execution_count": 186,
     "metadata": {},
     "output_type": "execute_result"
    },
    {
     "data": {
      "image/png": "[encoded data removed]",
      "text/plain": [
       "<Figure size 432x288 with 1 Axes>"
      ]
     },
     "metadata": {
      "needs_background": "light"
     },
     "output_type": "display_data"
    }
   ],
   "source": [
    "sns.boxplot(x='gender',y='poi_3',data=train)"
   ]
  },
  {
   "cell_type": "code",
   "execution_count": 187,
   "metadata": {},
   "outputs": [],
   "source": [
    "def impute_poi3(cols):\n",
    "    poi_3 = cols[0]\n",
    "    gender = cols[1]\n",
    "    \n",
    "    if pd.isnull(poi_3):\n",
    "        if gender == 'putra':\n",
    "            return train[train['gender']=='putra']['poi_3'].median()\n",
    "        elif gender == 'putri':\n",
    "            return train[train['gender']=='putri']['poi_3'].median()\n",
    "        else:\n",
    "            return train[train['gender']=='campur']['poi_3'].median()\n",
    "    else:\n",
    "        return poi_3\n",
    "train_data['poi_3'] = train[['poi_3','gender']].apply(impute_poi3,axis=1)"
   ]
  },
  {
   "cell_type": "code",
   "execution_count": 188,
   "metadata": {},
   "outputs": [],
   "source": [
    "#train_data.drop('poi_1',axis=1,inplace=True)\n",
    "#train_data.drop('poi_2',axis=1,inplace=True)\n",
    "#train_data.drop('poi_3',axis=1,inplace=True)\n",
    "#train_data.drop('size',axis=1,inplace=True)\n",
    "#train_data.drop('total_call',axis=1,inplace=True)\n",
    "#train_data.drop('room_count',axis=1,inplace=True)"
   ]
  },
  {
   "cell_type": "code",
   "execution_count": 189,
   "metadata": {},
   "outputs": [],
   "source": [
    "# ax = dfcampur[\"poi_1\"].hist(bins=50, density=True, stacked=True, color='teal', alpha=0.6)\n",
    "# dfcampur[\"poi_1\"].plot(kind='density', color='teal')\n",
    "# ax.set(xlabel='poi_1 campur')\n",
    "# plt.xlim(-1000,12000)\n",
    "# plt.show()"
   ]
  },
  {
   "cell_type": "code",
   "execution_count": 190,
   "metadata": {},
   "outputs": [],
   "source": [
    "# # Median poi_1\n",
    "# print('The median of poi_2')\n",
    "# print('The median of \"poi_2\" putra is %.2f' %(dfputra[\"poi_2\"].median(skipna=True)))\n",
    "# print('The median of \"poi_2\" putri is %.2f' %(dfputri[\"poi_2\"].median(skipna=True)))\n",
    "# print('The median of \"poi_2\" campur is %.2f' %(dfcampur[\"poi_2\"].median(skipna=True)))"
   ]
  },
  {
   "cell_type": "markdown",
   "metadata": {},
   "source": [
    "Let's identify size"
   ]
  },
  {
   "cell_type": "markdown",
   "metadata": {},
   "source": [
    "## 12. Size"
   ]
  },
  {
   "cell_type": "code",
   "execution_count": 191,
   "metadata": {},
   "outputs": [
    {
     "data": {
      "text/plain": [
       "<matplotlib.axes._subplots.AxesSubplot at 0x1ebefe8df28>"
      ]
     },
     "execution_count": 191,
     "metadata": {},
     "output_type": "execute_result"
    },
    {
     "data": {
      "image/png": "[encoded data removed]",
      "text/plain": [
       "<Figure size 432x288 with 1 Axes>"
      ]
     },
     "metadata": {
      "needs_background": "light"
     },
     "output_type": "display_data"
    }
   ],
   "source": [
    "sns.boxplot(x='gender',y='size',data=train)"
   ]
  },
  {
   "cell_type": "markdown",
   "metadata": {},
   "source": [
    "Let's see the median of the data"
   ]
  },
  {
   "cell_type": "code",
   "execution_count": 192,
   "metadata": {},
   "outputs": [
    {
     "name": "stdout",
     "output_type": "stream",
     "text": [
      "The median of \"size\" putra is 9.00 meter square\n",
      "The median of \"size\" putri is 10.68 meter square\n",
      "The median of \"size\" campur is 12.00 meter square\n"
     ]
    }
   ],
   "source": [
    "# mean age\n",
    "#print('The mean of \"size\" putra is %.2f' %(dfputra[\"size\"].mean(skipna=True)))\n",
    "# median age\n",
    "print('The median of \"size\" putra is %.2f meter square' %(dfputra[\"size\"].median(skipna=True)))\n",
    "# mean age\n",
    "#print('The mean of \"size\" putri is %.2f' %(dfputri[\"size\"].mean(skipna=True)))\n",
    "# median age\n",
    "print('The median of \"size\" putri is %.2f meter square' %(dfputri[\"size\"].median(skipna=True)))\n",
    "# mean age\n",
    "#print('The mean of \"size\" campur is %.2f' %(dfcampur[\"size\"].mean(skipna=True)))\n",
    "# median age\n",
    "print('The median of \"size\" campur is %.2f meter square' %(dfcampur[\"size\"].median(skipna=True)))"
   ]
  },
  {
   "cell_type": "markdown",
   "metadata": {},
   "source": [
    "Because size make difference, we can input the NAN's data"
   ]
  },
  {
   "cell_type": "code",
   "execution_count": 193,
   "metadata": {},
   "outputs": [],
   "source": [
    "def impute_size(cols):\n",
    "    size = cols[0]\n",
    "    gender = cols[1]\n",
    "    \n",
    "    if pd.isnull(size):\n",
    "        if gender == 'putra':\n",
    "            return train[train['gender']=='putra']['size'].median()\n",
    "        elif gender == 'putri':\n",
    "            return train[train['gender']=='putri']['size'].median()\n",
    "        else:\n",
    "            return train[train['gender']=='campur']['size'].median()\n",
    "    else:\n",
    "        return size"
   ]
  },
  {
   "cell_type": "code",
   "execution_count": 194,
   "metadata": {},
   "outputs": [],
   "source": [
    "train_data['size'] = train[['size','gender']].apply(impute_size,axis=1)"
   ]
  },
  {
   "cell_type": "markdown",
   "metadata": {},
   "source": [
    "## 13. Price_monthly"
   ]
  },
  {
   "cell_type": "markdown",
   "metadata": {},
   "source": [
    "Let's identify price_monthly"
   ]
  },
  {
   "cell_type": "code",
   "execution_count": 195,
   "metadata": {},
   "outputs": [
    {
     "data": {
      "text/plain": [
       "<matplotlib.axes._subplots.AxesSubplot at 0x1ebeff19438>"
      ]
     },
     "execution_count": 195,
     "metadata": {},
     "output_type": "execute_result"
    },
    {
     "data": {
      "image/png": "[encoded data removed]",
      "text/plain": [
       "<Figure size 432x288 with 1 Axes>"
      ]
     },
     "metadata": {
      "needs_background": "light"
     },
     "output_type": "display_data"
    }
   ],
   "source": [
    "sns.boxplot(x='gender',y='price_monthly',data=train)"
   ]
  },
  {
   "cell_type": "code",
   "execution_count": 196,
   "metadata": {},
   "outputs": [
    {
     "name": "stdout",
     "output_type": "stream",
     "text": [
      "The median of \"price_monthly\" putra is Rp.550000.00\n",
      "The median of \"price_monthly\" putri is Rp.650000.00\n",
      "The median of \"price_monthly\" campur is Rp.1200000.00\n"
     ]
    }
   ],
   "source": [
    "# mean age\n",
    "#print('The mean of \"size\" putra is %.2f' %(dfputra[\"size\"].mean(skipna=True)))\n",
    "# median age\n",
    "print('The median of \"price_monthly\" putra is Rp.%.2f' %(dfputra[\"price_monthly\"].median(skipna=True)))\n",
    "# mean age\n",
    "#print('The mean of \"size\" putri is %.2f' %(dfputri[\"size\"].mean(skipna=True)))\n",
    "# median age\n",
    "print('The median of \"price_monthly\" putri is Rp.%.2f' %(dfputri[\"price_monthly\"].median(skipna=True)))\n",
    "# mean age\n",
    "#print('The mean of \"size\" campur is %.2f' %(dfcampur[\"size\"].mean(skipna=True)))\n",
    "# median age\n",
    "print('The median of \"price_monthly\" campur is Rp.%.2f' %(dfcampur[\"price_monthly\"].median(skipna=True)))"
   ]
  },
  {
   "cell_type": "markdown",
   "metadata": {},
   "source": [
    "Because size make difference, we can input the NAN's data"
   ]
  },
  {
   "cell_type": "code",
   "execution_count": 197,
   "metadata": {},
   "outputs": [],
   "source": [
    "def impute_price(cols):\n",
    "    price_monthly = cols[0]\n",
    "    gender = cols[1]\n",
    "    \n",
    "    if pd.isnull(price_monthly):\n",
    "        if gender == 'putra':\n",
    "            return train[train['gender']=='putra']['price_monthly'].median()\n",
    "        elif gender == 'putri':\n",
    "            return train[train['gender']=='putri']['price_monthly'].median()\n",
    "        else:\n",
    "            return train[train['gender']=='campur']['price_monthly'].median()\n",
    "    else:\n",
    "        return price_monthly"
   ]
  },
  {
   "cell_type": "code",
   "execution_count": 198,
   "metadata": {},
   "outputs": [],
   "source": [
    "train_data['price_monthly'] = train[['price_monthly','gender']].apply(impute_price,axis=1)"
   ]
  },
  {
   "cell_type": "markdown",
   "metadata": {},
   "source": [
    "## 14. Room_count"
   ]
  },
  {
   "cell_type": "markdown",
   "metadata": {},
   "source": [
    "Let's identify room_count"
   ]
  },
  {
   "cell_type": "code",
   "execution_count": 199,
   "metadata": {},
   "outputs": [
    {
     "data": {
      "text/plain": [
       "<matplotlib.axes._subplots.AxesSubplot at 0x1ebefe8d748>"
      ]
     },
     "execution_count": 199,
     "metadata": {},
     "output_type": "execute_result"
    },
    {
     "data": {
      "image/png": "[encoded data removed]",
      "text/plain": [
       "<Figure size 432x288 with 1 Axes>"
      ]
     },
     "metadata": {
      "needs_background": "light"
     },
     "output_type": "display_data"
    }
   ],
   "source": [
    "sns.boxplot(x='gender',y='size',data=train)"
   ]
  },
  {
   "cell_type": "code",
   "execution_count": 200,
   "metadata": {},
   "outputs": [
    {
     "name": "stdout",
     "output_type": "stream",
     "text": [
      "The median of \"room_count\" putra is 8.00\n",
      "The median of \"room_count\" putri is 8.00\n",
      "The median of \"room_count\" campur is 6.00\n"
     ]
    }
   ],
   "source": [
    "# mean age\n",
    "#print('The mean of \"size\" putra is %.2f' %(dfputra[\"size\"].mean(skipna=True)))\n",
    "# median age\n",
    "print('The median of \"room_count\" putra is %.2f' %(dfputra[\"room_count\"].median(skipna=True)))\n",
    "# mean age\n",
    "#print('The mean of \"size\" putri is %.2f' %(dfputri[\"size\"].mean(skipna=True)))\n",
    "# median age\n",
    "print('The median of \"room_count\" putri is %.2f' %(dfputri[\"room_count\"].median(skipna=True)))\n",
    "# mean age\n",
    "#print('The mean of \"size\" campur is %.2f' %(dfcampur[\"size\"].mean(skipna=True)))\n",
    "# median age\n",
    "print('The median of \"room_count\" campur is %.2f' %(dfcampur[\"room_count\"].median(skipna=True)))"
   ]
  },
  {
   "cell_type": "markdown",
   "metadata": {},
   "source": [
    "Because size make difference, we can input the NAN's data"
   ]
  },
  {
   "cell_type": "code",
   "execution_count": 201,
   "metadata": {},
   "outputs": [],
   "source": [
    "def impute_room(cols):\n",
    "    room_count = cols[0]\n",
    "    gender = cols[1]\n",
    "    \n",
    "    if pd.isnull(room_count):\n",
    "        if gender == 'putra':\n",
    "            return train[train['gender']=='putra']['room_count'].median()\n",
    "        elif gender == 'putri':\n",
    "            return train[train['gender']=='putri']['room_count'].median()\n",
    "        else:\n",
    "            return train[train['gender']=='campur']['room_count'].median()\n",
    "    else:\n",
    "        return room_count"
   ]
  },
  {
   "cell_type": "code",
   "execution_count": 202,
   "metadata": {},
   "outputs": [],
   "source": [
    "train_data['room_count'] = train[['room_count','gender']].apply(impute_room,axis=1)"
   ]
  },
  {
   "cell_type": "markdown",
   "metadata": {},
   "source": [
    "## 15. Total_call"
   ]
  },
  {
   "cell_type": "markdown",
   "metadata": {},
   "source": [
    "Let's identify total call"
   ]
  },
  {
   "cell_type": "code",
   "execution_count": 203,
   "metadata": {},
   "outputs": [
    {
     "data": {
      "text/plain": [
       "<matplotlib.axes._subplots.AxesSubplot at 0x1ebeff196a0>"
      ]
     },
     "execution_count": 203,
     "metadata": {},
     "output_type": "execute_result"
    },
    {
     "data": {
      "image/png": "[encoded data removed]",
      "text/plain": [
       "<Figure size 432x288 with 1 Axes>"
      ]
     },
     "metadata": {
      "needs_background": "light"
     },
     "output_type": "display_data"
    }
   ],
   "source": [
    "sns.boxplot(x='gender',y='total_call',data=train)"
   ]
  },
  {
   "cell_type": "code",
   "execution_count": 204,
   "metadata": {},
   "outputs": [
    {
     "name": "stdout",
     "output_type": "stream",
     "text": [
      "The median of \"total_call\" putra is 21.00\n",
      "The median of \"total_call\" putri is 18.00\n",
      "The median of \"total_call\" campur is 28.00\n"
     ]
    }
   ],
   "source": [
    "# mean age\n",
    "#print('The mean of \"size\" putra is %.2f' %(dfputra[\"size\"].mean(skipna=True)))\n",
    "# median age\n",
    "print('The median of \"total_call\" putra is %.2f' %(dfputra[\"total_call\"].median(skipna=True)))\n",
    "# mean age\n",
    "#print('The mean of \"size\" putri is %.2f' %(dfputri[\"size\"].mean(skipna=True)))\n",
    "# median age\n",
    "print('The median of \"total_call\" putri is %.2f' %(dfputri[\"total_call\"].median(skipna=True)))\n",
    "# mean age\n",
    "#print('The mean of \"size\" campur is %.2f' %(dfcampur[\"size\"].mean(skipna=True)))\n",
    "# median age\n",
    "print('The median of \"total_call\" campur is %.2f' %(dfcampur[\"total_call\"].median(skipna=True)))"
   ]
  },
  {
   "cell_type": "markdown",
   "metadata": {},
   "source": [
    "Because total_call make difference, we can input the NAN's data"
   ]
  },
  {
   "cell_type": "code",
   "execution_count": 205,
   "metadata": {},
   "outputs": [],
   "source": [
    "def impute_call(cols):\n",
    "    total_call = cols[0]\n",
    "    gender = cols[1]\n",
    "    \n",
    "    if pd.isnull(total_call):\n",
    "        if gender == 'putra':\n",
    "            return train[train['gender']=='putra']['total_call'].median()\n",
    "        elif gender == 'putri':\n",
    "            return train[train['gender']=='putri']['total_call'].median()\n",
    "        else:\n",
    "            return train[train['gender']=='campur']['total_call'].median()\n",
    "    else:\n",
    "        return total_call"
   ]
  },
  {
   "cell_type": "code",
   "execution_count": 206,
   "metadata": {},
   "outputs": [],
   "source": [
    "train_data['total_call'] = train[['total_call','gender']].apply(impute_call,axis=1)"
   ]
  },
  {
   "cell_type": "code",
   "execution_count": 207,
   "metadata": {},
   "outputs": [
    {
     "data": {
      "text/plain": [
       "<matplotlib.axes._subplots.AxesSubplot at 0x1ebf0098da0>"
      ]
     },
     "execution_count": 207,
     "metadata": {},
     "output_type": "execute_result"
    },
    {
     "data": {
      "image/png": "[encoded data removed]",
      "text/plain": [
       "<Figure size 432x288 with 1 Axes>"
      ]
     },
     "metadata": {
      "needs_background": "light"
     },
     "output_type": "display_data"
    }
   ],
   "source": [
    "sns.heatmap(data=train_data.isnull(),cbar=False,cmap='viridis')"
   ]
  },
  {
   "cell_type": "code",
   "execution_count": 208,
   "metadata": {},
   "outputs": [
    {
     "data": {
      "text/plain": [
       "<matplotlib.axes._subplots.AxesSubplot at 0x1ebf011b630>"
      ]
     },
     "execution_count": 208,
     "metadata": {},
     "output_type": "execute_result"
    },
    {
     "data": {
      "image/png": "[encoded data removed]",
      "text/plain": [
       "<Figure size 1440x864 with 2 Axes>"
      ]
     },
     "metadata": {
      "needs_background": "light"
     },
     "output_type": "display_data"
    }
   ],
   "source": [
    "plt.figure(figsize=(20,12))\n",
    "sns.heatmap(train_data.corr(),annot=True)"
   ]
  },
  {
   "cell_type": "markdown",
   "metadata": {},
   "source": [
    "After analyze the data, let's do this"
   ]
  },
  {
   "cell_type": "markdown",
   "metadata": {},
   "source": [
    "Using Random Classifier"
   ]
  },
  {
   "cell_type": "code",
   "execution_count": 209,
   "metadata": {},
   "outputs": [
    {
     "name": "stdout",
     "output_type": "stream",
     "text": [
      "[[ 97  26  62]\n",
      " [ 18 121 145]\n",
      " [ 37  97 385]]\n",
      "\n",
      "\n",
      "              precision    recall  f1-score   support\n",
      "\n",
      "      campur       0.64      0.52      0.58       185\n",
      "       putra       0.50      0.43      0.46       284\n",
      "       putri       0.65      0.74      0.69       519\n",
      "\n",
      "    accuracy                           0.61       988\n",
      "   macro avg       0.59      0.56      0.58       988\n",
      "weighted avg       0.60      0.61      0.60       988\n",
      "\n"
     ]
    }
   ],
   "source": [
    "from sklearn.ensemble import RandomForestClassifier\n",
    "rfc = RandomForestClassifier(n_estimators=10)\n",
    "from sklearn.model_selection import train_test_split\n",
    "X_train, X_test, y_train, y_test = train_test_split(train_data.drop(labels=['gender'],axis=1), train_data['gender'], test_size=0.3, random_state=101)\n",
    "rfc.fit(X_train,y_train)\n",
    "rfc_pred = rfc.predict(X_test)\n",
    "from sklearn.metrics import classification_report,confusion_matrix\n",
    "print(confusion_matrix(y_test,rfc_pred))\n",
    "print('\\n')\n",
    "print(classification_report(y_test,rfc_pred))"
   ]
  },
  {
   "cell_type": "code",
   "execution_count": 210,
   "metadata": {},
   "outputs": [
    {
     "name": "stdout",
     "output_type": "stream",
     "text": [
      "[0.57511381 0.53414264 0.54324734 0.52048558 0.54033486]\n"
     ]
    }
   ],
   "source": [
    "from sklearn.model_selection import cross_val_score\n",
    "X = train_data.drop(labels=['gender'],axis=1)\n",
    "y = train_data['gender']\n",
    "print(cross_val_score(rfc, X, y, cv=5))"
   ]
  },
  {
   "cell_type": "code",
   "execution_count": 211,
   "metadata": {},
   "outputs": [],
   "source": [
    "train2 = train_data.copy()\n",
    "train_label = train_data['gender'].copy()\n",
    "train_x = train_data.drop('gender',axis=1,inplace=True)\n",
    "train_val = train_data.values"
   ]
  },
  {
   "cell_type": "code",
   "execution_count": 212,
   "metadata": {},
   "outputs": [],
   "source": [
    "train_x = train_data.copy()"
   ]
  },
  {
   "cell_type": "code",
   "execution_count": 213,
   "metadata": {},
   "outputs": [
    {
     "data": {
      "text/plain": [
       "RandomForestClassifier(bootstrap=True, class_weight=None, criterion='gini',\n",
       "                       max_depth=None, max_features='auto', max_leaf_nodes=None,\n",
       "                       min_impurity_decrease=0.0, min_impurity_split=None,\n",
       "                       min_samples_leaf=1, min_samples_split=2,\n",
       "                       min_weight_fraction_leaf=0.0, n_estimators=10,\n",
       "                       n_jobs=None, oob_score=False, random_state=None,\n",
       "                       verbose=0, warm_start=False)"
      ]
     },
     "execution_count": 213,
     "metadata": {},
     "output_type": "execute_result"
    }
   ],
   "source": [
    "model = RandomForestClassifier(n_estimators=10)\n",
    "model.fit(train_val,train_label)"
   ]
  },
  {
   "cell_type": "code",
   "execution_count": 214,
   "metadata": {},
   "outputs": [],
   "source": [
    "imp=model.feature_importances_\n",
    "feature_importances = pd.DataFrame(imp,index = train_x.columns,columns=['importance']).sort_values('importance',ascending=False)"
   ]
  },
  {
   "cell_type": "code",
   "execution_count": 215,
   "metadata": {},
   "outputs": [
    {
     "data": {
      "text/html": [
       "<div>\n",
       "<style scoped>\n",
       "    .dataframe tbody tr th:only-of-type {\n",
       "        vertical-align: middle;\n",
       "    }\n",
       "\n",
       "    .dataframe tbody tr th {\n",
       "        vertical-align: top;\n",
       "    }\n",
       "\n",
       "    .dataframe thead th {\n",
       "        text-align: right;\n",
       "    }\n",
       "</style>\n",
       "<table border=\"1\" class=\"dataframe\">\n",
       "  <thead>\n",
       "    <tr style=\"text-align: right;\">\n",
       "      <th></th>\n",
       "      <th>importance</th>\n",
       "    </tr>\n",
       "  </thead>\n",
       "  <tbody>\n",
       "    <tr>\n",
       "      <th>poi_3</th>\n",
       "      <td>0.142507</td>\n",
       "    </tr>\n",
       "    <tr>\n",
       "      <th>price_monthly</th>\n",
       "      <td>0.137532</td>\n",
       "    </tr>\n",
       "    <tr>\n",
       "      <th>poi_2</th>\n",
       "      <td>0.132925</td>\n",
       "    </tr>\n",
       "    <tr>\n",
       "      <th>total_call</th>\n",
       "      <td>0.131117</td>\n",
       "    </tr>\n",
       "    <tr>\n",
       "      <th>poi_1</th>\n",
       "      <td>0.128283</td>\n",
       "    </tr>\n",
       "    <tr>\n",
       "      <th>room_count</th>\n",
       "      <td>0.100969</td>\n",
       "    </tr>\n",
       "    <tr>\n",
       "      <th>size</th>\n",
       "      <td>0.078413</td>\n",
       "    </tr>\n",
       "    <tr>\n",
       "      <th>fac_8</th>\n",
       "      <td>0.025560</td>\n",
       "    </tr>\n",
       "    <tr>\n",
       "      <th>fac_4</th>\n",
       "      <td>0.024868</td>\n",
       "    </tr>\n",
       "    <tr>\n",
       "      <th>fac_5</th>\n",
       "      <td>0.022847</td>\n",
       "    </tr>\n",
       "    <tr>\n",
       "      <th>fac_6</th>\n",
       "      <td>0.020673</td>\n",
       "    </tr>\n",
       "    <tr>\n",
       "      <th>fac_3</th>\n",
       "      <td>0.019737</td>\n",
       "    </tr>\n",
       "    <tr>\n",
       "      <th>fac_2</th>\n",
       "      <td>0.018726</td>\n",
       "    </tr>\n",
       "    <tr>\n",
       "      <th>fac_1</th>\n",
       "      <td>0.015845</td>\n",
       "    </tr>\n",
       "  </tbody>\n",
       "</table>\n",
       "</div>"
      ],
      "text/plain": [
       "               importance\n",
       "poi_3            0.142507\n",
       "price_monthly    0.137532\n",
       "poi_2            0.132925\n",
       "total_call       0.131117\n",
       "poi_1            0.128283\n",
       "room_count       0.100969\n",
       "size             0.078413\n",
       "fac_8            0.025560\n",
       "fac_4            0.024868\n",
       "fac_5            0.022847\n",
       "fac_6            0.020673\n",
       "fac_3            0.019737\n",
       "fac_2            0.018726\n",
       "fac_1            0.015845"
      ]
     },
     "execution_count": 215,
     "metadata": {},
     "output_type": "execute_result"
    }
   ],
   "source": [
    "feature_importances"
   ]
  },
  {
   "cell_type": "code",
   "execution_count": 216,
   "metadata": {},
   "outputs": [
    {
     "data": {
      "image/png": "[encoded data removed]",
      "text/plain": [
       "<Figure size 576x576 with 1 Axes>"
      ]
     },
     "metadata": {
      "needs_background": "light"
     },
     "output_type": "display_data"
    }
   ],
   "source": [
    "plt.figure(figsize=(8,8))\n",
    "plt.barh(feature_importances.index,feature_importances.importance,color='r')\n",
    "plt.show()"
   ]
  },
  {
   "cell_type": "code",
   "execution_count": 272,
   "metadata": {},
   "outputs": [
    {
     "name": "stdout",
     "output_type": "stream",
     "text": [
      "[[ 84  22  45]\n",
      " [ 11 111 122]\n",
      " [ 37  89 303]]\n",
      "\n",
      "\n",
      "              precision    recall  f1-score   support\n",
      "\n",
      "      campur       0.64      0.56      0.59       151\n",
      "       putra       0.50      0.45      0.48       244\n",
      "       putri       0.64      0.71      0.67       429\n",
      "\n",
      "    accuracy                           0.60       824\n",
      "   macro avg       0.59      0.57      0.58       824\n",
      "weighted avg       0.60      0.60      0.60       824\n",
      "\n"
     ]
    }
   ],
   "source": [
    "from sklearn.model_selection import train_test_split\n",
    "X_train, X_test, y_train, y_test = train_test_split(train2.drop(labels=['gender','fac_1','fac_2','fac_3','fac_5','room_count'],axis=1), train2['gender'], test_size=0.25, random_state=101)\n",
    "rfc.fit(X_train,y_train)\n",
    "rfc_pred = rfc.predict(X_test)\n",
    "from sklearn.metrics import classification_report,confusion_matrix\n",
    "print(confusion_matrix(y_test,rfc_pred))\n",
    "print('\\n')\n",
    "print(classification_report(y_test,rfc_pred))"
   ]
  },
  {
   "cell_type": "code",
   "execution_count": 273,
   "metadata": {},
   "outputs": [
    {
     "name": "stdout",
     "output_type": "stream",
     "text": [
      "[0.62801932 0.5496368  0.49878345 0.60097324 0.50364964 0.55231144\n",
      " 0.51094891 0.57177616]\n",
      "\n",
      "\n",
      "0.5468295388501646\n"
     ]
    }
   ],
   "source": [
    "from sklearn.model_selection import cross_val_score\n",
    "X = train2.drop(labels=['gender','fac_1','fac_2','fac_3','fac_5','room_count'],axis=1)\n",
    "y = train2['gender']\n",
    "print(cross_val_score(rfc, X, y, cv=8))\n",
    "print('\\n')\n",
    "print(cross_val_score(rfc, X, y, cv=8).mean())"
   ]
  },
  {
   "cell_type": "code",
   "execution_count": 274,
   "metadata": {},
   "outputs": [
    {
     "name": "stdout",
     "output_type": "stream",
     "text": [
      "[[ 81  20  50]\n",
      " [ 20 103 121]\n",
      " [ 37  67 325]]\n",
      "\n",
      "\n",
      "              precision    recall  f1-score   support\n",
      "\n",
      "      campur       0.59      0.54      0.56       151\n",
      "       putra       0.54      0.42      0.47       244\n",
      "       putri       0.66      0.76      0.70       429\n",
      "\n",
      "    accuracy                           0.62       824\n",
      "   macro avg       0.59      0.57      0.58       824\n",
      "weighted avg       0.61      0.62      0.61       824\n",
      "\n"
     ]
    }
   ],
   "source": [
    "from sklearn.model_selection import train_test_split\n",
    "X_train, X_test, y_train, y_test = train_test_split(train2.drop(labels=['gender','fac_1','fac_2','fac_3','fac_5','room_count','size'],axis=1), train2['gender'], test_size=0.25, random_state=101)\n",
    "rfc.fit(X_train,y_train)\n",
    "rfc_pred = rfc.predict(X_test)\n",
    "from sklearn.metrics import classification_report,confusion_matrix\n",
    "print(confusion_matrix(y_test,rfc_pred))\n",
    "print('\\n')\n",
    "print(classification_report(y_test,rfc_pred))"
   ]
  },
  {
   "cell_type": "code",
   "execution_count": 275,
   "metadata": {},
   "outputs": [
    {
     "name": "stdout",
     "output_type": "stream",
     "text": [
      "[0.60869565 0.56900726 0.49878345 0.51824818 0.53284672 0.55474453\n",
      " 0.55231144 0.55474453]\n",
      "\n",
      "\n",
      "0.5456394618138402\n"
     ]
    }
   ],
   "source": [
    "from sklearn.model_selection import cross_val_score\n",
    "X = train2.drop(labels=['gender','fac_1','fac_2','fac_3','fac_5','room_count','size'],axis=1)\n",
    "y = train2['gender']\n",
    "print(cross_val_score(rfc, X, y, cv=8))\n",
    "print('\\n')\n",
    "print(cross_val_score(rfc, X, y, cv=8).mean())"
   ]
  },
  {
   "cell_type": "code",
   "execution_count": 276,
   "metadata": {},
   "outputs": [
    {
     "name": "stdout",
     "output_type": "stream",
     "text": [
      "[[ 75  18  58]\n",
      " [ 16 103 125]\n",
      " [ 32  86 311]]\n",
      "\n",
      "\n",
      "              precision    recall  f1-score   support\n",
      "\n",
      "      campur       0.61      0.50      0.55       151\n",
      "       putra       0.50      0.42      0.46       244\n",
      "       putri       0.63      0.72      0.67       429\n",
      "\n",
      "    accuracy                           0.59       824\n",
      "   macro avg       0.58      0.55      0.56       824\n",
      "weighted avg       0.59      0.59      0.59       824\n",
      "\n"
     ]
    }
   ],
   "source": [
    "from sklearn.model_selection import train_test_split\n",
    "X_train, X_test, y_train, y_test = train_test_split(train2.drop(labels=['gender','fac_1','fac_2','fac_3','fac_5'],axis=1), train2['gender'], test_size=0.25, random_state=101)\n",
    "rfc.fit(X_train,y_train)\n",
    "rfc_pred = rfc.predict(X_test)\n",
    "from sklearn.metrics import classification_report,confusion_matrix\n",
    "print(confusion_matrix(y_test,rfc_pred))\n",
    "print('\\n')\n",
    "print(classification_report(y_test,rfc_pred))"
   ]
  },
  {
   "cell_type": "code",
   "execution_count": 277,
   "metadata": {},
   "outputs": [
    {
     "name": "stdout",
     "output_type": "stream",
     "text": [
      "[0.62077295 0.59322034 0.50851582 0.54744526 0.53041363 0.5620438\n",
      " 0.54744526 0.54501217]\n",
      "\n",
      "\n",
      "0.5553468054049656\n"
     ]
    }
   ],
   "source": [
    "from sklearn.model_selection import cross_val_score\n",
    "X = train2.drop(labels=['gender','fac_1','fac_2','fac_3','fac_5'],axis=1)\n",
    "y = train2['gender']\n",
    "print(cross_val_score(rfc, X, y, cv=8))\n",
    "print('\\n')\n",
    "print(cross_val_score(rfc, X, y, cv=8).mean())"
   ]
  },
  {
   "cell_type": "code",
   "execution_count": 278,
   "metadata": {},
   "outputs": [
    {
     "name": "stdout",
     "output_type": "stream",
     "text": [
      "[[ 84  12  55]\n",
      " [ 10 100 134]\n",
      " [ 36  79 314]]\n",
      "\n",
      "\n",
      "              precision    recall  f1-score   support\n",
      "\n",
      "      campur       0.65      0.56      0.60       151\n",
      "       putra       0.52      0.41      0.46       244\n",
      "       putri       0.62      0.73      0.67       429\n",
      "\n",
      "    accuracy                           0.60       824\n",
      "   macro avg       0.60      0.57      0.58       824\n",
      "weighted avg       0.60      0.60      0.60       824\n",
      "\n"
     ]
    }
   ],
   "source": [
    "from sklearn.model_selection import train_test_split\n",
    "X_train, X_test, y_train, y_test = train_test_split(train2.drop(labels=['gender'],axis=1), train2['gender'], test_size=0.25, random_state=101)\n",
    "rfc.fit(X_train,y_train)\n",
    "rfc_pred = rfc.predict(X_test)\n",
    "from sklearn.metrics import classification_report,confusion_matrix\n",
    "print(confusion_matrix(y_test,rfc_pred))\n",
    "print('\\n')\n",
    "print(classification_report(y_test,rfc_pred))"
   ]
  },
  {
   "cell_type": "code",
   "execution_count": 279,
   "metadata": {},
   "outputs": [
    {
     "name": "stdout",
     "output_type": "stream",
     "text": [
      "[0.60386473 0.61501211 0.50851582 0.5620438  0.52554745 0.55961071\n",
      " 0.57420925 0.57177616]\n",
      "\n",
      "\n",
      "0.5598624608711533\n"
     ]
    }
   ],
   "source": [
    "from sklearn.model_selection import cross_val_score\n",
    "X = train2.drop(labels=['gender'],axis=1)\n",
    "y = train2['gender']\n",
    "print(cross_val_score(rfc, X, y, cv=8))\n",
    "print('\\n')\n",
    "print(cross_val_score(rfc, X, y, cv=8).mean())"
   ]
  },
  {
   "cell_type": "code",
   "execution_count": 281,
   "metadata": {},
   "outputs": [],
   "source": [
    "# ans=lb.inverse_transform(predictions)\n",
    "# submission = pd.DataFrame({'id':test_x.index,'gender':ans})\n",
    "# submission.to_csv('DataMining_Prediksi_Galaksi.csv',index=False)"
   ]
  },
  {
   "cell_type": "code",
   "execution_count": 116,
   "metadata": {},
   "outputs": [
    {
     "data": {
      "text/html": [
       "<div>\n",
       "<style scoped>\n",
       "    .dataframe tbody tr th:only-of-type {\n",
       "        vertical-align: middle;\n",
       "    }\n",
       "\n",
       "    .dataframe tbody tr th {\n",
       "        vertical-align: top;\n",
       "    }\n",
       "\n",
       "    .dataframe thead th {\n",
       "        text-align: right;\n",
       "    }\n",
       "</style>\n",
       "<table border=\"1\" class=\"dataframe\">\n",
       "  <thead>\n",
       "    <tr style=\"text-align: right;\">\n",
       "      <th></th>\n",
       "      <th>id</th>\n",
       "      <th>gender</th>\n",
       "    </tr>\n",
       "  </thead>\n",
       "  <tbody>\n",
       "    <tr>\n",
       "      <th>0</th>\n",
       "      <td>3294</td>\n",
       "      <td>putri</td>\n",
       "    </tr>\n",
       "    <tr>\n",
       "      <th>1</th>\n",
       "      <td>3295</td>\n",
       "      <td>putri</td>\n",
       "    </tr>\n",
       "    <tr>\n",
       "      <th>2</th>\n",
       "      <td>3296</td>\n",
       "      <td>putri</td>\n",
       "    </tr>\n",
       "    <tr>\n",
       "      <th>3</th>\n",
       "      <td>3297</td>\n",
       "      <td>putri</td>\n",
       "    </tr>\n",
       "    <tr>\n",
       "      <th>4</th>\n",
       "      <td>3298</td>\n",
       "      <td>putra</td>\n",
       "    </tr>\n",
       "  </tbody>\n",
       "</table>\n",
       "</div>"
      ],
      "text/plain": [
       "     id gender\n",
       "0  3294  putri\n",
       "1  3295  putri\n",
       "2  3296  putri\n",
       "3  3297  putri\n",
       "4  3298  putra"
      ]
     },
     "execution_count": 116,
     "metadata": {},
     "output_type": "execute_result"
    }
   ],
   "source": [
    "submission.head()"
   ]
  },
  {
   "cell_type": "code",
   "execution_count": null,
   "metadata": {},
   "outputs": [],
   "source": []
  }
 ],
 "metadata": {
  "kernelspec": {
   "display_name": "Python 3",
   "language": "python",
   "name": "python3"
  },
  "language_info": {
   "codemirror_mode": {
    "name": "ipython",
    "version": 3
   },
   "file_extension": ".py",
   "mimetype": "text/x-python",
   "name": "python",
   "nbconvert_exporter": "python",
   "pygments_lexer": "ipython3",
   "version": "3.7.1"
  }
 },
 "nbformat": 4,
 "nbformat_minor": 2
}
